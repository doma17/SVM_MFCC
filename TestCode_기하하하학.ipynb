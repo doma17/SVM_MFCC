{
 "cells": [
  {
   "cell_type": "code",
   "execution_count": 4,
   "id": "1f3440a0",
   "metadata": {},
   "outputs": [
    {
     "ename": "SyntaxError",
     "evalue": "invalid syntax (1127124335.py, line 2)",
     "output_type": "error",
     "traceback": [
      "\u001b[0;36m  Cell \u001b[0;32mIn [4], line 2\u001b[0;36m\u001b[0m\n\u001b[0;31m    pip install matplotlib\u001b[0m\n\u001b[0m        ^\u001b[0m\n\u001b[0;31mSyntaxError\u001b[0m\u001b[0;31m:\u001b[0m invalid syntax\n"
     ]
    }
   ],
   "source": [
    "pip install joblib\n",
    "pip install matplotlib\n",
    "pip install pandas\n",
    "pip install scikit-learn\n",
    "pip install numpy\n",
    "pip install librosa\n",
    "pip install wave\n",
    "pip install noisereduce\n",
    "pip install tqdm"
   ]
  },
  {
   "cell_type": "code",
   "execution_count": 1,
   "id": "c524f1ac",
   "metadata": {},
   "outputs": [],
   "source": [
    "import os\n",
    "import joblib\n",
    "import matplotlib.pyplot as plt\n",
    "import pandas as pd\n",
    "import sklearn\n",
    "import numpy as np\n",
    "\n",
    "import librosa # wav파일 MFCC 추출\n",
    "import wave # raw to wav\n",
    "import noisereduce as nr # 노이즈 감쇄 라이브러리\n",
    "\n",
    "from tqdm import tqdm # 프로그레스 바 생성\n",
    "from sklearn import svm # 모델\n",
    "from sklearn.preprocessing import MinMaxScaler # 스케일러\n",
    "from sklearn.decomposition import PCA # 주성분 분석"
   ]
  },
  {
   "cell_type": "markdown",
   "id": "c095900d",
   "metadata": {},
   "source": [
    "# 1. 경로 설정"
   ]
  },
  {
   "cell_type": "code",
   "execution_count": 2,
   "id": "e2e5fa18",
   "metadata": {},
   "outputs": [],
   "source": [
    "# train data 파일이름\n",
    "train_ctl_path = './fmcc_train.ctl'\n",
    "# train data .wav 파일 저장 디렉토리 경로\n",
    "train_data_dir = './raw16k/train/'\n",
    "\n",
    "# test data 파일이름\n",
    "test_ctl_path = './fmcc_eval.ctl'\n",
    "# test data .wav 파일 저장 디렉토리 경로\n",
    "test_data_dir = './eval/'"
   ]
  },
  {
   "cell_type": "markdown",
   "id": "e1a42636",
   "metadata": {},
   "source": [
    "# 2. 학습 / 테스트 데이터 읽어오기"
   ]
  },
  {
   "cell_type": "code",
   "execution_count": 3,
   "id": "e4076f54",
   "metadata": {
    "scrolled": true
   },
   "outputs": [],
   "source": [
    "# .ctl 파일 입력 함수\n",
    "def read_ctl_file(file_path):\n",
    "    with open(file_path, 'r') as f:\n",
    "        file_list = f.read().splitlines()\n",
    "    return file_list\n",
    "\n",
    "# 데이터 리스트 읽어오기\n",
    "train_list = read_ctl_file(train_ctl_path) \n",
    "test_list = read_ctl_file(test_ctl_path)"
   ]
  },
  {
   "cell_type": "markdown",
   "id": "dc478b03",
   "metadata": {},
   "source": [
    "# 3. RAW To WAV 파일 변환 // wave 라이브러리 사용\n",
    "   - .wav 파일은 .raw 파일 경로에 저장"
   ]
  },
  {
   "cell_type": "code",
   "execution_count": 4,
   "id": "1f7fa20b",
   "metadata": {
    "scrolled": true
   },
   "outputs": [
    {
     "name": "stderr",
     "output_type": "stream",
     "text": [
      "100%|███████████████████████████████████| 10000/10000 [00:03<00:00, 3210.88it/s]\n",
      "100%|███████████████████████████████████████| 900/900 [00:00<00:00, 3417.70it/s]\n"
     ]
    }
   ],
   "source": [
    "# Train\n",
    "for file_name in tqdm(train_list):\n",
    "    file_path = os.path.join(train_data_dir, file_name)\n",
    "    with open(file_path + '.raw', \"rb\") as inp_f:\n",
    "        data = inp_f.read()\n",
    "        with wave.open(file_path + '.wav', \"wb\") as out_f:\n",
    "            out_f.setnchannels(1)\n",
    "            out_f.setsampwidth(2) # number of bytes\n",
    "            out_f.setframerate(16000)\n",
    "            out_f.writeframesraw(data)\n",
    "\n",
    "# Test\n",
    "for file_name in tqdm(test_list):\n",
    "    file_path = os.path.join(test_data_dir, file_name)\n",
    "    with open(file_path + '.raw', \"rb\") as inp_f:\n",
    "        data = inp_f.read()\n",
    "        with wave.open(file_path + '.wav', \"wb\") as out_f:\n",
    "            out_f.setnchannels(1)\n",
    "            out_f.setsampwidth(2) # number of bytes\n",
    "            out_f.setframerate(16000)\n",
    "            out_f.writeframesraw(data)"
   ]
  },
  {
   "cell_type": "markdown",
   "id": "56a5748f",
   "metadata": {},
   "source": [
    "# 4. 특징추출"
   ]
  },
  {
   "cell_type": "markdown",
   "id": "775d476c",
   "metadata": {},
   "source": [
    "## 4.1. Mel-Spectrogram 특징 추출"
   ]
  },
  {
   "cell_type": "code",
   "execution_count": 5,
   "id": "c780955f",
   "metadata": {},
   "outputs": [],
   "source": [
    "def extract_log_mfcc(file_path, roll=0):\n",
    "    data,sr = librosa.load(file_path,sr=16000)\n",
    "    # 노이즈 감쇄\n",
    "    data = nr.reduce_noise(y=data,sr=sr)\n",
    "    # Mel-Spectrogram 추출\n",
    "    S =  librosa.feature.melspectrogram(y=data,sr=sr,n_mels = 128,fmax = 8000)\n",
    "    # MFCC 추출\n",
    "    mfcc = librosa.feature.mfcc(S=librosa.power_to_db(S), n_mfcc = 100)\n",
    "    # 데이터 패딩\n",
    "    pad2d = lambda a, i: a[:, 0:i] if a.shape[1] > i else np.hstack((a, np.zeros((a.shape[0], i-a.shape[1]))))\n",
    "    padded_mfcc = pad2d(mfcc, 100)\n",
    "    return padded_mfcc"
   ]
  },
  {
   "cell_type": "code",
   "execution_count": 6,
   "id": "a54933b7",
   "metadata": {},
   "outputs": [],
   "source": [
    "train_dataset = np.zeros(shape=(10000, 2), dtype=object)\n",
    "test_dataset = np.zeros(shape=(900, 2), dtype=object)"
   ]
  },
  {
   "cell_type": "code",
   "execution_count": 7,
   "id": "45502fe6",
   "metadata": {
    "scrolled": true
   },
   "outputs": [
    {
     "name": "stderr",
     "output_type": "stream",
     "text": [
      "100%|███████████████████████████████████| 10000/10000 [3:28:06<00:00,  1.25s/it]\n"
     ]
    }
   ],
   "source": [
    "# Train\n",
    "i = 0\n",
    "for file_name in tqdm(train_list):\n",
    "    file_path = os.path.join(train_data_dir, file_name)\n",
    "    audio_path = file_path + '.wav'\n",
    "    # MEL 특징 추출\n",
    "    mels = extract_log_mfcc(audio_path) \n",
    "    train_dataset[i, 0] = mels\n",
    "    # 파일명에서 성별 label 추출\n",
    "    file_info = file_name.split(\"/\")[-1]\n",
    "    prefix, _ = file_info.split(\"_\")\n",
    "    train_dataset[i, 1] = prefix[0]\n",
    "    i += 1"
   ]
  },
  {
   "cell_type": "code",
   "execution_count": 8,
   "id": "8b3675f0",
   "metadata": {},
   "outputs": [
    {
     "name": "stderr",
     "output_type": "stream",
     "text": [
      "100%|█████████████████████████████████████████| 900/900 [00:29<00:00, 30.43it/s]\n"
     ]
    }
   ],
   "source": [
    "# Test\n",
    "i = 0\n",
    "for file_name in tqdm(test_list):\n",
    "    file_path = os.path.join(test_data_dir, file_name)\n",
    "    audio_path = file_path + '.wav'\n",
    "    # MFCC 특징 추출\n",
    "    mels = extract_log_mfcc(audio_path)\n",
    "    feature = mels\n",
    "    test_dataset[i, 0] = feature\n",
    "    i += 1"
   ]
  },
  {
   "cell_type": "code",
   "execution_count": 9,
   "id": "b7c67759",
   "metadata": {},
   "outputs": [
    {
     "ename": "FileNotFoundError",
     "evalue": "[Errno 2] No such file or directory: './fmcc_test900_ref.txt'",
     "output_type": "error",
     "traceback": [
      "\u001b[0;31m---------------------------------------------------------------------------\u001b[0m",
      "\u001b[0;31mFileNotFoundError\u001b[0m                         Traceback (most recent call last)",
      "Cell \u001b[0;32mIn [9], line 3\u001b[0m\n\u001b[1;32m      1\u001b[0m \u001b[38;5;66;03m# Test label 생성\u001b[39;00m\n\u001b[1;32m      2\u001b[0m i \u001b[38;5;241m=\u001b[39m \u001b[38;5;241m0\u001b[39m\n\u001b[0;32m----> 3\u001b[0m \u001b[38;5;28;01mwith\u001b[39;00m \u001b[38;5;28;43mopen\u001b[39;49m\u001b[43m(\u001b[49m\u001b[38;5;124;43m'\u001b[39;49m\u001b[38;5;124;43m./fmcc_test900_ref.txt\u001b[39;49m\u001b[38;5;124;43m'\u001b[39;49m\u001b[43m,\u001b[49m\u001b[43m \u001b[49m\u001b[38;5;124;43m'\u001b[39;49m\u001b[38;5;124;43mr\u001b[39;49m\u001b[38;5;124;43m'\u001b[39;49m\u001b[43m)\u001b[49m \u001b[38;5;28;01mas\u001b[39;00m file:\n\u001b[1;32m      4\u001b[0m     \u001b[38;5;28;01mfor\u001b[39;00m line \u001b[38;5;129;01min\u001b[39;00m file:\n\u001b[1;32m      5\u001b[0m         label \u001b[38;5;241m=\u001b[39m line\u001b[38;5;241m.\u001b[39mstrip()\u001b[38;5;241m.\u001b[39msplit()[\u001b[38;5;241m-\u001b[39m\u001b[38;5;241m1\u001b[39m]\n",
      "\u001b[0;31mFileNotFoundError\u001b[0m: [Errno 2] No such file or directory: './fmcc_test900_ref.txt'"
     ]
    }
   ],
   "source": [
    "# Test label 생성\n",
    "i = 0\n",
    "with open('./fmcc_test900_ref.txt', 'r') as file:\n",
    "    for line in file:\n",
    "        label = line.strip().split()[-1]\n",
    "        if label == 'feml':\n",
    "            test_dataset[i, 1] = 'F'\n",
    "        else:\n",
    "            test_dataset[i, 1] = 'M'\n",
    "        i += 1"
   ]
  },
  {
   "cell_type": "markdown",
   "id": "a8a6e46a",
   "metadata": {},
   "source": [
    "## 4.2 데이터셋 저장"
   ]
  },
  {
   "cell_type": "code",
   "execution_count": 17,
   "id": "18294862",
   "metadata": {},
   "outputs": [],
   "source": [
    "np.save(\"./dataset_train\", train_dataset, allow_pickle=True)\n",
    "np.save(\"./dataset_test\", test_dataset, allow_pickle=True)"
   ]
  },
  {
   "cell_type": "markdown",
   "id": "a41a9e05",
   "metadata": {},
   "source": [
    "## 4.2 데이터 전처리"
   ]
  },
  {
   "cell_type": "code",
   "execution_count": 6,
   "id": "f277f79b",
   "metadata": {},
   "outputs": [],
   "source": [
    "train_data = pd.DataFrame(np.load(\"./dataset_train.npy\",allow_pickle= True))\n",
    "test_data = pd.DataFrame(np.load(\"./dataset_test.npy\",allow_pickle= True))"
   ]
  },
  {
   "cell_type": "code",
   "execution_count": 7,
   "id": "b52b77e9",
   "metadata": {},
   "outputs": [],
   "source": [
    "train_data.columns = ['feature', 'label']\n",
    "test_data.columns = ['feature', 'label']"
   ]
  },
  {
   "cell_type": "code",
   "execution_count": 8,
   "id": "5ee0cdee",
   "metadata": {
    "scrolled": false
   },
   "outputs": [
    {
     "name": "stdout",
     "output_type": "stream",
     "text": [
      "<class 'pandas.core.frame.DataFrame'>\n",
      "RangeIndex: 10000 entries, 0 to 9999\n",
      "Data columns (total 2 columns):\n",
      " #   Column   Non-Null Count  Dtype \n",
      "---  ------   --------------  ----- \n",
      " 0   feature  10000 non-null  object\n",
      " 1   label    10000 non-null  object\n",
      "dtypes: object(2)\n",
      "memory usage: 156.4+ KB\n",
      "None\n",
      "(10000, 2)\n"
     ]
    }
   ],
   "source": [
    "print(train_data.info())\n",
    "print(train_data.shape)"
   ]
  },
  {
   "cell_type": "code",
   "execution_count": 9,
   "id": "8f281147",
   "metadata": {
    "scrolled": true
   },
   "outputs": [],
   "source": [
    "# 넘파이 배열로 변환\n",
    "X_train = np.array(train_data.feature.tolist())\n",
    "y_train = np.array(train_data.label.tolist())\n",
    "X_test = np.array(test_data.feature.tolist())\n",
    "y_test = np.array(test_data.label.tolist())"
   ]
  },
  {
   "cell_type": "code",
   "execution_count": 10,
   "id": "268037d4",
   "metadata": {
    "scrolled": true
   },
   "outputs": [
    {
     "name": "stdout",
     "output_type": "stream",
     "text": [
      "X_train, y_train 데이터\n",
      "(10000, 100, 100)\n",
      "X_test, y_test 데이터\n",
      "(900, 100, 100)\n"
     ]
    }
   ],
   "source": [
    "print('X_train, y_train 데이터')\n",
    "print(X_train.shape)\n",
    "print('X_test, y_test 데이터')\n",
    "print(X_test.shape)"
   ]
  },
  {
   "cell_type": "code",
   "execution_count": 11,
   "id": "8d26e76e",
   "metadata": {
    "scrolled": true
   },
   "outputs": [],
   "source": [
    "# 차원 Reshape\n",
    "nsamples1, nx1, ny1 = X_train.shape\n",
    "X_train = X_train.reshape((nsamples1,nx1*ny1))\n",
    "nsamples2, nx2, ny2 = X_test.shape\n",
    "X_test = X_test.reshape((nsamples2,nx2*ny2))"
   ]
  },
  {
   "cell_type": "code",
   "execution_count": 12,
   "id": "addc2df0",
   "metadata": {
    "scrolled": true
   },
   "outputs": [
    {
     "name": "stdout",
     "output_type": "stream",
     "text": [
      "RESHAPE\n",
      " X_train, y_train 데이터\n",
      "(10000, 10000)\n",
      "(10000,)\n",
      "X_test, y_test 데이터\n",
      "(900, 10000)\n",
      "(900,)\n"
     ]
    }
   ],
   "source": [
    "print('RESHAPE\\n X_train, y_train 데이터')\n",
    "print(X_train.shape)\n",
    "print(y_train.shape)\n",
    "print('X_test, y_test 데이터')\n",
    "print(X_test.shape)\n",
    "print(y_test.shape)"
   ]
  },
  {
   "cell_type": "markdown",
   "id": "a10540dc",
   "metadata": {},
   "source": [
    "### 스케일링을 위해서 학습 데이터를 fit 시킨다."
   ]
  },
  {
   "cell_type": "code",
   "execution_count": 13,
   "id": "da88ab54",
   "metadata": {},
   "outputs": [],
   "source": [
    "# 스케일링 - MinMaxScaler\n",
    "scaler = MinMaxScaler()\n",
    "scaler.fit(X_train)\n",
    "X_train_scaled = scaler.transform(X_train)\n",
    "X_test = scaler.transform(X_test)"
   ]
  },
  {
   "cell_type": "code",
   "execution_count": 14,
   "id": "02ebb328",
   "metadata": {
    "scrolled": true
   },
   "outputs": [],
   "source": [
    "# 데이터 셔플\n",
    "idx = np.arange(X_train_scaled.shape[0])\n",
    "np.random.shuffle(idx)\n",
    "X = X_train_scaled[idx]\n",
    "y = y_train[idx]"
   ]
  },
  {
   "cell_type": "code",
   "execution_count": 15,
   "id": "4191c315",
   "metadata": {},
   "outputs": [
    {
     "name": "stdout",
     "output_type": "stream",
     "text": [
      "데이터 셔플 확인\n",
      "['F' 'M' 'M' 'M' 'M' 'M' 'F' 'F' 'M' 'F']\n"
     ]
    }
   ],
   "source": [
    "print('데이터 셔플 확인')\n",
    "print(y[:10])"
   ]
  },
  {
   "cell_type": "code",
   "execution_count": 16,
   "id": "cb0de2e0",
   "metadata": {
    "scrolled": true
   },
   "outputs": [],
   "source": [
    "# 데이터 라벨 인코더\n",
    "from sklearn.preprocessing import LabelEncoder\n",
    "lb = LabelEncoder()\n",
    "y = lb.fit_transform(y)\n",
    "y_test = lb.fit_transform(y_test)"
   ]
  },
  {
   "cell_type": "code",
   "execution_count": 17,
   "id": "be08357d",
   "metadata": {},
   "outputs": [
    {
     "name": "stdout",
     "output_type": "stream",
     "text": [
      "데이터 라벨 인코딩 확인\n",
      "[0 1 1 1 1 1 0 0 1 0]\n",
      "\n",
      "SHAPE 확인\n",
      "X_train, y_train 데이터\n",
      "(10000, 10000)\n",
      "(10000,)\n",
      "X_test, y_test 데이터\n",
      "(900, 10000)\n",
      "(900,)\n"
     ]
    }
   ],
   "source": [
    "print('데이터 라벨 인코딩 확인')\n",
    "print(y[:10])\n",
    "print('\\nSHAPE 확인\\nX_train, y_train 데이터')\n",
    "print(X.shape)\n",
    "print(y.shape)\n",
    "print('X_test, y_test 데이터')\n",
    "print(X_test.shape)\n",
    "print(y_test.shape)"
   ]
  },
  {
   "cell_type": "markdown",
   "id": "f7ea35c9",
   "metadata": {},
   "source": [
    "## 4.3. 데이터 시각화 및 분석"
   ]
  },
  {
   "cell_type": "code",
   "execution_count": 18,
   "id": "8f9c67f8",
   "metadata": {},
   "outputs": [],
   "source": [
    "# 테스트 데이터\n",
    "pca = PCA(n_components=2) # 주성분을 몇개로 할지 결정\n",
    "printcipalComponents = pca.fit_transform(X_test)\n",
    "principalDf = pd.DataFrame(data=printcipalComponents, columns = ['principal component1', 'principal component2'])\n",
    "# 주성분으로 이루어진 데이터 프레임 구성"
   ]
  },
  {
   "cell_type": "code",
   "execution_count": 20,
   "id": "ea9be335",
   "metadata": {
    "scrolled": false
   },
   "outputs": [
    {
     "name": "stderr",
     "output_type": "stream",
     "text": [
      "/var/folders/nk/wf8xl72x1nj4zqkpjtmw6cc00000gn/T/ipykernel_63758/817099317.py:1: UserWarning: No data for colormapping provided via 'c'. Parameters 'cmap' will be ignored\n",
      "  plt.scatter(np.array(principalDf)[:, 0], np.array(principalDf)[:, 1], cmap='bwr')\n"
     ]
    },
    {
     "data": {
      "image/png": "[encoded data removed]",
      "text/plain": [
       "<Figure size 640x480 with 2 Axes>"
      ]
     },
     "metadata": {},
     "output_type": "display_data"
    }
   ],
   "source": [
    "plt.scatter(np.array(principalDf)[:, 0], np.array(principalDf)[:, 1], cmap='bwr')\n",
    "plt.title('Data Visualization')\n",
    "plt.colorbar(ticks=[0, 1], label='gender classification')\n",
    "plt.show()"
   ]
  },
  {
   "cell_type": "markdown",
   "id": "8cd32866",
   "metadata": {},
   "source": [
    "# 5. 모델 테스트\n",
    "   \n",
    "### Test Data : X_test, y_test"
   ]
  },
  {
   "cell_type": "code",
   "execution_count": 21,
   "id": "ff01ea5c",
   "metadata": {},
   "outputs": [],
   "source": [
    "# 모델 불러오기\n",
    "svm_model = joblib.load('./svm_model_기하하학.pkl') "
   ]
  },
  {
   "cell_type": "code",
   "execution_count": 22,
   "id": "6a7eaa4d",
   "metadata": {},
   "outputs": [
    {
     "data": {
      "text/plain": [
       "<bound method BaseEstimator.get_params of SVC(C=10, gamma=0.025, random_state=24, verbose=1)>"
      ]
     },
     "execution_count": 22,
     "metadata": {},
     "output_type": "execute_result"
    }
   ],
   "source": [
    "svm_model.get_params"
   ]
  },
  {
   "cell_type": "code",
   "execution_count": 23,
   "id": "6d37ee15",
   "metadata": {},
   "outputs": [],
   "source": [
    "labels = svm_model.predict(X_test)"
   ]
  },
  {
   "cell_type": "code",
   "execution_count": 24,
   "id": "a4205a4d",
   "metadata": {},
   "outputs": [
    {
     "data": {
      "text/plain": [
       "array([0, 0, 0, 1, 1, 1, 0, 1, 0, 1, 0, 1, 0, 1, 0, 0, 0, 0, 1, 1, 0, 0,\n",
       "       0, 1, 1, 0, 0, 1, 1, 1, 0, 0, 1, 0, 0, 1, 1, 1, 0, 1, 0, 0, 0, 1,\n",
       "       1, 0, 1, 0, 0, 1, 0, 0, 0, 1, 1, 0, 1, 1, 0, 1, 0, 0, 0, 1, 0, 1,\n",
       "       1, 1, 0, 1, 1, 1, 0, 1, 1, 1, 1, 0, 0, 0, 1, 0, 0, 0, 1, 1, 1, 0,\n",
       "       0, 1, 1, 0, 1, 0, 1, 1, 0, 0, 1, 0, 0, 0, 1, 0, 0, 1, 0, 0, 0, 1,\n",
       "       0, 1, 1, 0, 0, 0, 0, 1, 1, 0, 1, 1, 1, 1, 1, 1, 0, 0, 0, 1, 0, 0,\n",
       "       1, 0, 1, 0, 0, 1, 1, 1, 1, 1, 1, 1, 1, 0, 1, 0, 1, 0, 0, 1, 1, 0,\n",
       "       0, 0, 1, 1, 1, 1, 1, 1, 1, 0, 1, 0, 1, 0, 1, 0, 1, 0, 0, 1, 1, 0,\n",
       "       0, 1, 0, 0, 1, 1, 0, 0, 0, 1, 0, 0, 1, 1, 1, 1, 0, 0, 1, 1, 0, 0,\n",
       "       0, 1, 1, 0, 0, 1, 0, 1, 0, 1, 0, 1, 0, 0, 1, 1, 1, 1, 1, 0, 1, 0,\n",
       "       1, 1, 0, 1, 0, 1, 0, 0, 1, 0, 0, 0, 0, 1, 1, 1, 0, 1, 0, 0, 1, 1,\n",
       "       1, 0, 1, 1, 1, 0, 0, 1, 1, 1, 0, 0, 1, 1, 0, 1, 1, 1, 0, 1, 0, 1,\n",
       "       1, 1, 0, 0, 1, 0, 1, 1, 0, 0, 1, 1, 0, 1, 1, 1, 1, 0, 0, 0, 1, 1,\n",
       "       1, 0, 0, 0, 0, 1, 1, 0, 0, 1, 1, 0, 0, 1, 0, 1, 1, 0, 0, 1, 1, 1,\n",
       "       1, 0, 1, 1, 1, 0, 0, 1, 0, 1, 1, 1, 1, 1, 0, 1, 0, 1, 1, 1, 1, 1,\n",
       "       1, 1, 0, 1, 0, 0, 1, 0, 0, 0, 0, 0, 1, 1, 1, 0, 1, 1, 1, 0, 0, 1,\n",
       "       0, 0, 0, 1, 1, 1, 0, 1, 1, 0, 0, 1, 1, 1, 0, 1, 0, 0, 1, 1, 0, 0,\n",
       "       1, 0, 1, 0, 0, 1, 0, 1, 1, 0, 0, 1, 0, 0, 0, 0, 1, 1, 1, 1, 0, 0,\n",
       "       0, 0, 0, 1, 0, 0, 1, 1, 0, 1, 1, 0, 0, 1, 0, 1, 0, 1, 0, 1, 0, 0,\n",
       "       0, 0, 0, 1, 1, 1, 0, 1, 0, 1, 0, 1, 0, 0, 0, 1, 1, 1, 1, 1, 1, 1,\n",
       "       1, 1, 1, 1, 0, 0, 0, 0, 1, 0, 1, 1, 0, 1, 1, 0, 0, 0, 0, 1, 1, 1,\n",
       "       1, 1, 1, 0, 0, 1, 1, 0, 0, 0, 1, 0, 1, 0, 0, 1, 1, 0, 1, 0, 1, 1,\n",
       "       0, 1, 1, 1, 0, 1, 0, 0, 1, 1, 1, 0, 1, 1, 0, 1, 1, 0, 0, 0, 0, 1,\n",
       "       1, 1, 0, 1, 1, 1, 0, 1, 1, 1, 1, 0, 1, 1, 1, 0, 1, 1, 0, 0, 1, 1,\n",
       "       0, 0, 0, 0, 1, 0, 0, 1, 0, 1, 1, 0, 0, 1, 1, 1, 1, 0, 1, 1, 1, 1,\n",
       "       1, 1, 0, 0, 1, 1, 1, 0, 0, 1, 1, 1, 0, 0, 1, 0, 1, 0, 0, 0, 0, 1,\n",
       "       1, 1, 1, 0, 0, 1, 0, 0, 1, 1, 0, 1, 1, 0, 1, 1, 0, 1, 0, 1, 0, 1,\n",
       "       0, 1, 0, 0, 1, 0, 1, 0, 0, 0, 1, 1, 1, 0, 1, 1, 1, 0, 0, 1, 0, 1,\n",
       "       1, 1, 1, 1, 0, 1, 0, 1, 0, 0, 0, 1, 0, 1, 0, 1, 1, 0, 0, 0, 0, 1,\n",
       "       1, 1, 1, 0, 1, 1, 0, 1, 1, 0, 0, 1, 1, 1, 0, 0, 0, 1, 1, 1, 1, 1,\n",
       "       0, 1, 0, 0, 1, 1, 0, 0, 0, 0, 1, 1, 0, 1, 1, 0, 1, 1, 1, 0, 1, 0,\n",
       "       1, 0, 0, 1, 1, 0, 0, 1, 1, 0, 0, 0, 0, 0, 0, 1, 0, 1, 1, 0, 1, 0,\n",
       "       0, 0, 1, 1, 0, 0, 0, 1, 0, 1, 1, 1, 1, 0, 1, 1, 1, 0, 1, 1, 1, 1,\n",
       "       1, 1, 0, 1, 1, 0, 0, 1, 0, 1, 0, 0, 0, 0, 0, 1, 1, 1, 0, 0, 1, 1,\n",
       "       1, 1, 0, 1, 1, 1, 1, 0, 1, 1, 0, 0, 1, 0, 1, 1, 0, 1, 1, 0, 1, 0,\n",
       "       1, 1, 1, 1, 1, 0, 1, 1, 0, 0, 1, 0, 0, 1, 1, 0, 0, 1, 1, 0, 1, 1,\n",
       "       0, 1, 0, 0, 1, 1, 0, 0, 0, 1, 1, 1, 1, 1, 0, 0, 0, 1, 1, 0, 0, 1,\n",
       "       1, 1, 1, 0, 1, 0, 0, 0, 1, 1, 1, 0, 1, 1, 0, 1, 0, 0, 1, 1, 1, 0,\n",
       "       1, 1, 1, 0, 1, 1, 0, 1, 1, 1, 1, 1, 0, 1, 0, 1, 0, 1, 1, 1, 1, 0,\n",
       "       0, 0, 1, 1, 0, 1, 1, 1, 1, 1, 0, 1, 1, 1, 1, 1, 0, 0, 0, 0, 1, 1,\n",
       "       0, 0, 1, 1, 1, 0, 1, 0, 0, 1, 0, 0, 1, 0, 1, 0, 0, 0, 0, 1])"
      ]
     },
     "execution_count": 24,
     "metadata": {},
     "output_type": "execute_result"
    }
   ],
   "source": [
    "labels"
   ]
  },
  {
   "cell_type": "markdown",
   "id": "38ee5bee",
   "metadata": {},
   "source": [
    "### txt파일로 결과 추출"
   ]
  },
  {
   "cell_type": "code",
   "execution_count": 25,
   "id": "a47db817",
   "metadata": {
    "scrolled": true
   },
   "outputs": [],
   "source": [
    "file = open('./기하하하학_test_results.txt', 'w')\n",
    "for i in range(0, 900):\n",
    "    gender = None\n",
    "    if labels[i] == 0:\n",
    "        gender = 'feml'\n",
    "    else:\n",
    "        gender = 'male'\n",
    "    file.write(test_list[i] + ' ' + gender + '\\n')\n",
    "file.close()\n",
    "\n",
    "file = open('./fmcc_test_ref.txt', 'w')\n",
    "for i in range(0, 900):\n",
    "    gender = None\n",
    "    if i < 401:\n",
    "        gender = 'feml'\n",
    "    else:\n",
    "        gender = 'male'\n",
    "    file.write(test_list[i] + ' ' + gender + '\\n')\n",
    "file.close()"
   ]
  },
  {
   "cell_type": "code",
   "execution_count": null,
   "id": "28331fca",
   "metadata": {},
   "outputs": [],
   "source": []
  }
 ],
 "metadata": {
  "kernelspec": {
   "display_name": "Python 3 (ipykernel)",
   "language": "python",
   "name": "python3"
  },
  "language_info": {
   "codemirror_mode": {
    "name": "ipython",
    "version": 3
   },
   "file_extension": ".py",
   "mimetype": "text/x-python",
   "name": "python",
   "nbconvert_exporter": "python",
   "pygments_lexer": "ipython3",
   "version": "3.10.10"
  }
 },
 "nbformat": 4,
 "nbformat_minor": 5
}
